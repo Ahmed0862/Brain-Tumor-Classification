{
 "cells": [
  {
   "cell_type": "code",
   "execution_count": null,
   "id": "44fa1071",
   "metadata": {
    "execution": {
     "iopub.execute_input": "2022-12-18T09:52:49.262671Z",
     "iopub.status.busy": "2022-12-18T09:52:49.262299Z",
     "iopub.status.idle": "2022-12-18T09:53:00.710668Z",
     "shell.execute_reply": "2022-12-18T09:53:00.709694Z",
     "shell.execute_reply.started": "2022-12-18T09:52:49.262636Z"
    },
    "papermill": {
     "duration": null,
     "end_time": null,
     "exception": null,
     "start_time": null,
     "status": "pending"
    },
    "tags": []
   },
   "outputs": [],
   "source": [
    "import numpy as np\n",
    "import cv2\n",
    "import tensorflow as tf\n",
    "from tqdm import tqdm\n",
    "import os\n",
    "from sklearn.utils import shuffle\n",
    "from sklearn.model_selection import train_test_split\n",
    "from tensorflow.keras.callbacks import ReduceLROnPlateau, TensorBoard, ModelCheckpoint\n",
    "import ipywidgets as widgets\n",
    "import io\n",
    "from PIL import Image\n",
    "from IPython.display import display,clear_output"
   ]
  },
  {
   "cell_type": "code",
   "execution_count": null,
   "id": "07f63d54",
   "metadata": {
    "execution": {
     "iopub.execute_input": "2022-12-18T09:53:00.713594Z",
     "iopub.status.busy": "2022-12-18T09:53:00.712931Z",
     "iopub.status.idle": "2022-12-18T09:53:00.735776Z",
     "shell.execute_reply": "2022-12-18T09:53:00.734846Z",
     "shell.execute_reply.started": "2022-12-18T09:53:00.713557Z"
    },
    "papermill": {
     "duration": null,
     "end_time": null,
     "exception": null,
     "start_time": null,
     "status": "pending"
    },
    "tags": []
   },
   "outputs": [],
   "source": [
    "import numpy as np\n",
    "import cv2\n",
    "import tensorflow as tf\n",
    "from tqdm import tqdm\n",
    "import os\n",
    "from sklearn.utils import shuffle\n",
    "from sklearn.model_selection import train_test_split\n",
    "from tensorflow.keras.applications import EfficientNetB0\n",
    "from tensorflow.keras.callbacks import ReduceLROnPlateau, TensorBoard, ModelCheckpoint\n",
    "import ipywidgets as widgets\n",
    "import io\n",
    "from PIL import Image\n",
    "from IPython.display import display,clear_output\n",
    "from pathlib import Path\n",
    "from tensorflow.keras.preprocessing import image\n"
   ]
  },
  {
   "cell_type": "code",
   "execution_count": null,
   "id": "01025827",
   "metadata": {
    "execution": {
     "iopub.execute_input": "2022-12-18T09:53:00.737934Z",
     "iopub.status.busy": "2022-12-18T09:53:00.737297Z",
     "iopub.status.idle": "2022-12-18T09:53:00.755860Z",
     "shell.execute_reply": "2022-12-18T09:53:00.754998Z",
     "shell.execute_reply.started": "2022-12-18T09:53:00.737898Z"
    },
    "papermill": {
     "duration": null,
     "end_time": null,
     "exception": null,
     "start_time": null,
     "status": "pending"
    },
    "tags": []
   },
   "outputs": [],
   "source": [
    "labels = ['glioma_tumor','no_tumor','meningioma_tumor','pituitary_tumor']"
   ]
  },
  {
   "cell_type": "code",
   "execution_count": null,
   "id": "876de8bb",
   "metadata": {
    "execution": {
     "iopub.execute_input": "2022-12-18T09:53:00.759284Z",
     "iopub.status.busy": "2022-12-18T09:53:00.758696Z",
     "iopub.status.idle": "2022-12-18T09:53:29.519589Z",
     "shell.execute_reply": "2022-12-18T09:53:29.518579Z",
     "shell.execute_reply.started": "2022-12-18T09:53:00.759250Z"
    },
    "papermill": {
     "duration": null,
     "end_time": null,
     "exception": null,
     "start_time": null,
     "status": "pending"
    },
    "tags": []
   },
   "outputs": [],
   "source": [
    "p = Path('../input/brain-tumor-classification-mri/Training')\n",
    "dirs = p.glob('*')\n",
    "labels = []\n",
    "image_data = []\n",
    "label_dict = {'glioma_tumor':0 , 'meningioma_tumor':1,'no_tumor':2,'pituitary_tumor':3}\n",
    "for folder in dirs:\n",
    "    label = str(folder).split('/')[-1]\n",
    "    print(label)\n",
    "    for image_path in folder.glob('*.jpg'):\n",
    "        img = image.load_img(image_path,target_size = (224,224))\n",
    "        img_array =image.img_to_array(img)\n",
    "        image_data.append(img_array)\n",
    "        labels.append(label_dict[label])\n",
    "x_train = np.array(image_data)\n",
    "y_train = np.array(labels)"
   ]
  },
  {
   "cell_type": "code",
   "execution_count": null,
   "id": "c6a019ec",
   "metadata": {
    "execution": {
     "iopub.execute_input": "2022-12-18T09:53:29.521398Z",
     "iopub.status.busy": "2022-12-18T09:53:29.521013Z",
     "iopub.status.idle": "2022-12-18T09:53:33.433039Z",
     "shell.execute_reply": "2022-12-18T09:53:33.432038Z",
     "shell.execute_reply.started": "2022-12-18T09:53:29.521360Z"
    },
    "papermill": {
     "duration": null,
     "end_time": null,
     "exception": null,
     "start_time": null,
     "status": "pending"
    },
    "tags": []
   },
   "outputs": [],
   "source": [
    "p = Path('../input/brain-tumor-classification-mri/Testing')\n",
    "dirs = p.glob('*')\n",
    "labels = []\n",
    "image_data = []\n",
    "label_dict = {'glioma_tumor':0 , 'meningioma_tumor':1,'no_tumor':2,'pituitary_tumor':3}\n",
    "for folder in dirs:\n",
    "    label = str(folder).split('/')[-1]\n",
    "    print(label)\n",
    "    for image_path in folder.glob('*.jpg'):\n",
    "        img = image.load_img(image_path,target_size = (224,224))\n",
    "        img_array =image.img_to_array(img)\n",
    "        image_data.append(img_array)\n",
    "        labels.append(label_dict[label])\n",
    "x_test = np.array(image_data)\n",
    "y_test = np.array(labels)"
   ]
  },
  {
   "cell_type": "code",
   "execution_count": null,
   "id": "1e26cf25",
   "metadata": {
    "execution": {
     "iopub.execute_input": "2022-12-18T09:53:33.434856Z",
     "iopub.status.busy": "2022-12-18T09:53:33.434446Z",
     "iopub.status.idle": "2022-12-18T09:53:34.013057Z",
     "shell.execute_reply": "2022-12-18T09:53:34.011980Z",
     "shell.execute_reply.started": "2022-12-18T09:53:33.434819Z"
    },
    "papermill": {
     "duration": null,
     "end_time": null,
     "exception": null,
     "start_time": null,
     "status": "pending"
    },
    "tags": []
   },
   "outputs": [],
   "source": [
    "x_train = x_train/255.0\n",
    "x_test = x_test/255.0 "
   ]
  },
  {
   "cell_type": "code",
   "execution_count": null,
   "id": "f26bb8b6",
   "metadata": {
    "execution": {
     "iopub.execute_input": "2022-12-18T09:53:34.015073Z",
     "iopub.status.busy": "2022-12-18T09:53:34.014394Z",
     "iopub.status.idle": "2022-12-18T09:53:34.021255Z",
     "shell.execute_reply": "2022-12-18T09:53:34.020227Z",
     "shell.execute_reply.started": "2022-12-18T09:53:34.015032Z"
    },
    "papermill": {
     "duration": null,
     "end_time": null,
     "exception": null,
     "start_time": null,
     "status": "pending"
    },
    "tags": []
   },
   "outputs": [],
   "source": [
    "from tensorflow.keras.utils import to_categorical,plot_model\n"
   ]
  },
  {
   "cell_type": "code",
   "execution_count": null,
   "id": "f0d26d21",
   "metadata": {
    "execution": {
     "iopub.execute_input": "2022-12-18T09:53:34.023568Z",
     "iopub.status.busy": "2022-12-18T09:53:34.022609Z",
     "iopub.status.idle": "2022-12-18T09:53:34.549141Z",
     "shell.execute_reply": "2022-12-18T09:53:34.548051Z",
     "shell.execute_reply.started": "2022-12-18T09:53:34.023515Z"
    },
    "papermill": {
     "duration": null,
     "end_time": null,
     "exception": null,
     "start_time": null,
     "status": "pending"
    },
    "tags": []
   },
   "outputs": [],
   "source": [
    "X_train,X_test,y_train,y_test = train_test_split(x_train,y_train, test_size=0.2,random_state=101)"
   ]
  },
  {
   "cell_type": "code",
   "execution_count": null,
   "id": "d1799e4c",
   "metadata": {
    "execution": {
     "iopub.execute_input": "2022-12-18T09:53:34.552159Z",
     "iopub.status.busy": "2022-12-18T09:53:34.551422Z",
     "iopub.status.idle": "2022-12-18T09:53:34.557641Z",
     "shell.execute_reply": "2022-12-18T09:53:34.556583Z",
     "shell.execute_reply.started": "2022-12-18T09:53:34.552120Z"
    },
    "papermill": {
     "duration": null,
     "end_time": null,
     "exception": null,
     "start_time": null,
     "status": "pending"
    },
    "tags": []
   },
   "outputs": [],
   "source": [
    "y_train = to_categorical(y_train)\n",
    "y_test = to_categorical(y_test)"
   ]
  },
  {
   "cell_type": "markdown",
   "id": "da6b6260",
   "metadata": {
    "papermill": {
     "duration": null,
     "end_time": null,
     "exception": null,
     "start_time": null,
     "status": "pending"
    },
    "tags": []
   },
   "source": [
    "# Block-Wise Feature Extraction"
   ]
  },
  {
   "cell_type": "markdown",
   "id": "7aada4bf",
   "metadata": {
    "papermill": {
     "duration": null,
     "end_time": null,
     "exception": null,
     "start_time": null,
     "status": "pending"
    },
    "tags": []
   },
   "source": [
    " **Block-3**"
   ]
  },
  {
   "cell_type": "code",
   "execution_count": null,
   "id": "2aa97379",
   "metadata": {
    "execution": {
     "iopub.execute_input": "2022-12-18T09:53:34.563273Z",
     "iopub.status.busy": "2022-12-18T09:53:34.562983Z",
     "iopub.status.idle": "2022-12-18T09:53:34.569191Z",
     "shell.execute_reply": "2022-12-18T09:53:34.568129Z",
     "shell.execute_reply.started": "2022-12-18T09:53:34.563249Z"
    },
    "papermill": {
     "duration": null,
     "end_time": null,
     "exception": null,
     "start_time": null,
     "status": "pending"
    },
    "tags": []
   },
   "outputs": [],
   "source": [
    "from tensorflow.keras.applications.vgg16 import VGG16\n",
    "from tensorflow.keras.preprocessing import image\n",
    "from tensorflow.keras.applications.vgg16 import VGG16\n",
    "from tensorflow.keras.applications.vgg16 import preprocess_input"
   ]
  },
  {
   "cell_type": "code",
   "execution_count": null,
   "id": "a0ea2cab",
   "metadata": {
    "execution": {
     "iopub.execute_input": "2022-12-18T09:53:34.570989Z",
     "iopub.status.busy": "2022-12-18T09:53:34.570582Z",
     "iopub.status.idle": "2022-12-18T09:53:34.585951Z",
     "shell.execute_reply": "2022-12-18T09:53:34.584937Z",
     "shell.execute_reply.started": "2022-12-18T09:53:34.570955Z"
    },
    "papermill": {
     "duration": null,
     "end_time": null,
     "exception": null,
     "start_time": null,
     "status": "pending"
    },
    "tags": []
   },
   "outputs": [],
   "source": [
    "from tensorflow.keras.preprocessing import image\n",
    "from tensorflow.keras.models import Model\n"
   ]
  },
  {
   "cell_type": "code",
   "execution_count": null,
   "id": "25d4bd5e",
   "metadata": {
    "execution": {
     "iopub.execute_input": "2022-12-18T09:53:34.587212Z",
     "iopub.status.busy": "2022-12-18T09:53:34.586930Z"
    },
    "papermill": {
     "duration": null,
     "end_time": null,
     "exception": null,
     "start_time": null,
     "status": "pending"
    },
    "tags": []
   },
   "outputs": [],
   "source": [
    "Xb3=[]\n",
    "j=0\n",
    "for i in X_train:\n",
    "    img = image.img_to_array(i)\n",
    "    img = preprocess_input(img)\n",
    "    img = np.expand_dims(img, axis=0)\n",
    "\n",
    "    model = VGG16(weights='imagenet', input_shape=(224,224,3), include_top=False)\n",
    "    block3_pool = Model(model.inputs, model.get_layer('block3_pool').output)\n",
    "    block3_features = block3_pool.predict(img)\n",
    "    block3_feature_vector = np.ravel(np.mean(block3_features,axis=(1,2)))\n",
    "    Xb3.append(block3_feature_vector)\n",
    "    print(\"->\"+str(j),end=\" \")\n",
    "    j+=1\n",
    "\n"
   ]
  },
  {
   "cell_type": "code",
   "execution_count": null,
   "id": "4d115a45",
   "metadata": {
    "papermill": {
     "duration": null,
     "end_time": null,
     "exception": null,
     "start_time": null,
     "status": "pending"
    },
    "tags": []
   },
   "outputs": [],
   "source": [
    "Xb3 = np.asarray(Xb3)\n",
    "np.save('BTC_X_train_B3',Xb3)\n"
   ]
  },
  {
   "cell_type": "code",
   "execution_count": null,
   "id": "6601e9d0",
   "metadata": {
    "papermill": {
     "duration": null,
     "end_time": null,
     "exception": null,
     "start_time": null,
     "status": "pending"
    },
    "tags": []
   },
   "outputs": [],
   "source": [
    "Xb3.shape"
   ]
  },
  {
   "cell_type": "code",
   "execution_count": null,
   "id": "a18541f5",
   "metadata": {
    "papermill": {
     "duration": null,
     "end_time": null,
     "exception": null,
     "start_time": null,
     "status": "pending"
    },
    "tags": []
   },
   "outputs": [],
   "source": [
    "Yb3=[]\n",
    "j=0\n",
    "for i in X_test:\n",
    "    img = image.img_to_array(i)\n",
    "    img = preprocess_input(img)\n",
    "    img = np.expand_dims(img, axis=0)\n",
    "    model = VGG16(weights='imagenet', input_shape=(224,224,3), include_top=False)\n",
    "    block3_pool = Model(model.inputs, model.get_layer('block3_pool').output)\n",
    "    block3_features = block3_pool.predict(img)\n",
    "    block3_feature_vector = np.ravel(np.mean(block3_features,axis=(1,2)))\n",
    "    Yb3.append(block3_feature_vector)\n",
    "    print(\"->\"+str(j),end=\" \")\n",
    "    j+=1\n",
    "    \n"
   ]
  },
  {
   "cell_type": "code",
   "execution_count": null,
   "id": "749e9462",
   "metadata": {
    "papermill": {
     "duration": null,
     "end_time": null,
     "exception": null,
     "start_time": null,
     "status": "pending"
    },
    "tags": []
   },
   "outputs": [],
   "source": [
    "Yb3 = np.asarray(Yb3)\n",
    "np.save('BTC_X_test_B3',Yb3)\n"
   ]
  },
  {
   "cell_type": "code",
   "execution_count": null,
   "id": "7ab7a0b9",
   "metadata": {
    "papermill": {
     "duration": null,
     "end_time": null,
     "exception": null,
     "start_time": null,
     "status": "pending"
    },
    "tags": []
   },
   "outputs": [],
   "source": [
    "Yb3.shape"
   ]
  },
  {
   "cell_type": "markdown",
   "id": "7f0796f7",
   "metadata": {
    "papermill": {
     "duration": null,
     "end_time": null,
     "exception": null,
     "start_time": null,
     "status": "pending"
    },
    "tags": []
   },
   "source": [
    "**Block-4**"
   ]
  },
  {
   "cell_type": "code",
   "execution_count": null,
   "id": "32ceadb9",
   "metadata": {
    "papermill": {
     "duration": null,
     "end_time": null,
     "exception": null,
     "start_time": null,
     "status": "pending"
    },
    "tags": []
   },
   "outputs": [],
   "source": [
    "Xb4=[]\n",
    "j=0\n",
    "for i in X_train:\n",
    "    img = image.img_to_array(i)\n",
    "    img = preprocess_input(img)\n",
    "    img = np.expand_dims(img, axis=0)\n",
    "    model = VGG16(weights='imagenet', input_shape=(224,224,3), include_top=False)\n",
    "    block_pool = Model(model.inputs, model.get_layer('block4_pool').output)\n",
    "    block_features = block_pool.predict(img)\n",
    "    block_feature_vector = np.ravel(np.mean(block_features,axis=(1,2)))\n",
    "    Xb4.append(block_feature_vector)\n",
    "    print(\"->\"+str(j),end=\" \")\n",
    "    j+=1\n",
    "    \n"
   ]
  },
  {
   "cell_type": "code",
   "execution_count": null,
   "id": "5137cc5e",
   "metadata": {
    "papermill": {
     "duration": null,
     "end_time": null,
     "exception": null,
     "start_time": null,
     "status": "pending"
    },
    "tags": []
   },
   "outputs": [],
   "source": [
    "Xb4 = np.asarray(Xb4)\n",
    "Xb4.shape"
   ]
  },
  {
   "cell_type": "code",
   "execution_count": null,
   "id": "44d9baf7",
   "metadata": {
    "papermill": {
     "duration": null,
     "end_time": null,
     "exception": null,
     "start_time": null,
     "status": "pending"
    },
    "tags": []
   },
   "outputs": [],
   "source": [
    "np.save('BTC_X_train_B4',Xb4)\n"
   ]
  },
  {
   "cell_type": "code",
   "execution_count": null,
   "id": "2685c039",
   "metadata": {
    "papermill": {
     "duration": null,
     "end_time": null,
     "exception": null,
     "start_time": null,
     "status": "pending"
    },
    "tags": []
   },
   "outputs": [],
   "source": [
    "Yb4=[]\n",
    "j=0\n",
    "for i in X_test:\n",
    "    img = image.img_to_array(i)\n",
    "    img = preprocess_input(img)\n",
    "    img = np.expand_dims(img, axis=0)\n",
    "    model = VGG16(weights='imagenet', input_shape=(224,224,3), include_top=False)\n",
    "    block_pool = Model(model.inputs, model.get_layer('block4_pool').output)\n",
    "    block_features = block_pool.predict(img)\n",
    "    block_feature_vector = np.ravel(np.mean(block_features,axis=(1,2)))\n",
    "    Yb4.append(block_feature_vector)\n",
    "    print(\"->\"+str(j),end=\" \")\n",
    "    j+=1\n",
    "    \n"
   ]
  },
  {
   "cell_type": "code",
   "execution_count": null,
   "id": "8bc977bd",
   "metadata": {
    "papermill": {
     "duration": null,
     "end_time": null,
     "exception": null,
     "start_time": null,
     "status": "pending"
    },
    "tags": []
   },
   "outputs": [],
   "source": [
    "Yb4 = np.asarray(Yb4)\n",
    "Yb4.shape"
   ]
  },
  {
   "cell_type": "code",
   "execution_count": null,
   "id": "0cb770eb",
   "metadata": {
    "papermill": {
     "duration": null,
     "end_time": null,
     "exception": null,
     "start_time": null,
     "status": "pending"
    },
    "tags": []
   },
   "outputs": [],
   "source": [
    "np.save('BTC_X_test_B4',Yb4)\n"
   ]
  },
  {
   "cell_type": "markdown",
   "id": "5666b8a3",
   "metadata": {
    "papermill": {
     "duration": null,
     "end_time": null,
     "exception": null,
     "start_time": null,
     "status": "pending"
    },
    "tags": []
   },
   "source": [
    "**Block-5**"
   ]
  },
  {
   "cell_type": "code",
   "execution_count": null,
   "id": "f542b0ae",
   "metadata": {
    "papermill": {
     "duration": null,
     "end_time": null,
     "exception": null,
     "start_time": null,
     "status": "pending"
    },
    "tags": []
   },
   "outputs": [],
   "source": [
    "Xb5=[]\n",
    "j=0\n",
    "for i in X_train:\n",
    "    img = image.img_to_array(i)\n",
    "    img = preprocess_input(img)\n",
    "    img = np.expand_dims(img, axis=0)\n",
    "    model = VGG16(weights='imagenet', input_shape=(224,224,3), include_top=False)\n",
    "    block_pool = Model(model.inputs, model.get_layer('block5_pool').output)\n",
    "    block_features = block_pool.predict(img)\n",
    "    block_feature_vector = np.ravel(np.mean(block_features,axis=(1,2)))\n",
    "    Xb5.append(block_feature_vector)\n",
    "    print(\"->\"+str(j),end=\" \")\n",
    "    j+=1\n",
    "    \n"
   ]
  },
  {
   "cell_type": "code",
   "execution_count": null,
   "id": "53673ae3",
   "metadata": {
    "papermill": {
     "duration": null,
     "end_time": null,
     "exception": null,
     "start_time": null,
     "status": "pending"
    },
    "tags": []
   },
   "outputs": [],
   "source": [
    "Xb5 = np.asarray(Xb5)\n",
    "np.save('BTC_X_train_B5',Xb5)\n"
   ]
  },
  {
   "cell_type": "code",
   "execution_count": null,
   "id": "92b1a933",
   "metadata": {
    "papermill": {
     "duration": null,
     "end_time": null,
     "exception": null,
     "start_time": null,
     "status": "pending"
    },
    "tags": []
   },
   "outputs": [],
   "source": [
    "Xb5.shape"
   ]
  },
  {
   "cell_type": "code",
   "execution_count": null,
   "id": "c49d1856",
   "metadata": {
    "papermill": {
     "duration": null,
     "end_time": null,
     "exception": null,
     "start_time": null,
     "status": "pending"
    },
    "tags": []
   },
   "outputs": [],
   "source": [
    "Yb5=[]\n",
    "j=0\n",
    "for i in X_test:\n",
    "    img = image.img_to_array(i)\n",
    "    img = preprocess_input(img)\n",
    "    img = np.expand_dims(img, axis=0)\n",
    "    model = VGG16(weights='imagenet', input_shape=(224,224,3), include_top=False)\n",
    "    block_pool = Model(model.inputs, model.get_layer('block5_pool').output)\n",
    "    block_features = block_pool.predict(img)\n",
    "    block_feature_vector = np.ravel(np.mean(block_features,axis=(1,2)))\n",
    "    Yb5.append(block_feature_vector)\n",
    "    print(\"->\"+str(j),end=\" \")\n",
    "    j+=1\n",
    "    \n"
   ]
  },
  {
   "cell_type": "code",
   "execution_count": null,
   "id": "88d13d77",
   "metadata": {
    "papermill": {
     "duration": null,
     "end_time": null,
     "exception": null,
     "start_time": null,
     "status": "pending"
    },
    "tags": []
   },
   "outputs": [],
   "source": [
    "Yb5 = np.asarray(Yb5)\n",
    "np.save('BTC_X_test_B5',Yb5)\n"
   ]
  },
  {
   "cell_type": "code",
   "execution_count": null,
   "id": "dd3a755e",
   "metadata": {
    "papermill": {
     "duration": null,
     "end_time": null,
     "exception": null,
     "start_time": null,
     "status": "pending"
    },
    "tags": []
   },
   "outputs": [],
   "source": [
    "Yb5.shape"
   ]
  },
  {
   "cell_type": "markdown",
   "id": "e35a3896",
   "metadata": {
    "papermill": {
     "duration": null,
     "end_time": null,
     "exception": null,
     "start_time": null,
     "status": "pending"
    },
    "tags": []
   },
   "source": [
    "#  **Testing**"
   ]
  },
  {
   "cell_type": "markdown",
   "id": "b030ff21",
   "metadata": {
    "papermill": {
     "duration": null,
     "end_time": null,
     "exception": null,
     "start_time": null,
     "status": "pending"
    },
    "tags": []
   },
   "source": [
    "**B3**"
   ]
  },
  {
   "cell_type": "code",
   "execution_count": null,
   "id": "cbbb4399",
   "metadata": {
    "papermill": {
     "duration": null,
     "end_time": null,
     "exception": null,
     "start_time": null,
     "status": "pending"
    },
    "tags": []
   },
   "outputs": [],
   "source": [
    "xtrainb3=np.load('/kaggle/input/dlintern/BTC_X_train_B3.npy')\n",
    "xtestb3=np.load('/kaggle/input/dlintern/BTC_X_test_B3.npy')"
   ]
  },
  {
   "cell_type": "code",
   "execution_count": null,
   "id": "ade11737",
   "metadata": {
    "papermill": {
     "duration": null,
     "end_time": null,
     "exception": null,
     "start_time": null,
     "status": "pending"
    },
    "tags": []
   },
   "outputs": [],
   "source": [
    "from sklearn.ensemble import RandomForestClassifier\n",
    "from sklearn import metrics \n",
    "\n",
    "clf = RandomForestClassifier()\n",
    "clf.fit(xtrainb3, y_train)\n",
    "y_pred = clf.predict(xtestb3)\n",
    "print(metrics.accuracy_score(y_test, y_pred))"
   ]
  },
  {
   "cell_type": "code",
   "execution_count": null,
   "id": "3cd3c83c",
   "metadata": {
    "papermill": {
     "duration": null,
     "end_time": null,
     "exception": null,
     "start_time": null,
     "status": "pending"
    },
    "tags": []
   },
   "outputs": [],
   "source": [
    "from sklearn.svm import SVC\n",
    "from sklearn.metrics import accuracy_score\n",
    "svc=SVC() \n",
    "svc.fit(xtrainb3,y_train)\n",
    "y_pred=svc.predict(xtestb3)\n",
    "print('Model accuracy score with default hyperparameters: {0:0.4f}'. format(accuracy_score(y_test, y_pred)))"
   ]
  },
  {
   "cell_type": "markdown",
   "id": "4c6e0e43",
   "metadata": {
    "papermill": {
     "duration": null,
     "end_time": null,
     "exception": null,
     "start_time": null,
     "status": "pending"
    },
    "tags": []
   },
   "source": [
    "**B4**"
   ]
  },
  {
   "cell_type": "code",
   "execution_count": null,
   "id": "5538578a",
   "metadata": {
    "papermill": {
     "duration": null,
     "end_time": null,
     "exception": null,
     "start_time": null,
     "status": "pending"
    },
    "tags": []
   },
   "outputs": [],
   "source": [
    "xtrainb4=np.load('/kaggle/input/dlintern/BTC_X_train_B4.npy')\n",
    "xtestb4=np.load('/kaggle/input/dlintern/BTC_X_test_B4.npy')"
   ]
  },
  {
   "cell_type": "code",
   "execution_count": null,
   "id": "06aa30ee",
   "metadata": {
    "papermill": {
     "duration": null,
     "end_time": null,
     "exception": null,
     "start_time": null,
     "status": "pending"
    },
    "tags": []
   },
   "outputs": [],
   "source": [
    "xtrainb4.shape"
   ]
  },
  {
   "cell_type": "code",
   "execution_count": null,
   "id": "75770a26",
   "metadata": {
    "papermill": {
     "duration": null,
     "end_time": null,
     "exception": null,
     "start_time": null,
     "status": "pending"
    },
    "tags": []
   },
   "outputs": [],
   "source": [
    "len(y_train)"
   ]
  },
  {
   "cell_type": "code",
   "execution_count": null,
   "id": "6821e646",
   "metadata": {
    "papermill": {
     "duration": null,
     "end_time": null,
     "exception": null,
     "start_time": null,
     "status": "pending"
    },
    "tags": []
   },
   "outputs": [],
   "source": [
    "from sklearn.ensemble import RandomForestClassifier\n",
    "from sklearn import metrics \n",
    "\n",
    "clf = RandomForestClassifier()\n",
    "clf.fit(xtrainb4, y_train)\n",
    "y_pred = clf.predict(xtestb4)\n",
    "print(metrics.accuracy_score(y_test, y_pred))"
   ]
  },
  {
   "cell_type": "code",
   "execution_count": null,
   "id": "1880dbf0",
   "metadata": {
    "papermill": {
     "duration": null,
     "end_time": null,
     "exception": null,
     "start_time": null,
     "status": "pending"
    },
    "tags": []
   },
   "outputs": [],
   "source": [
    "from sklearn.svm import SVC\n",
    "from sklearn.metrics import accuracy_score\n",
    "svc=SVC() \n",
    "svc.fit(xtrainb4,y_train)\n",
    "y_pred=svc.predict(xtestb4)\n",
    "print('Model accuracy score with default hyperparameters: {0:0.4f}'. format(accuracy_score(y_test, y_pred)))"
   ]
  },
  {
   "cell_type": "markdown",
   "id": "b46ff09d",
   "metadata": {
    "papermill": {
     "duration": null,
     "end_time": null,
     "exception": null,
     "start_time": null,
     "status": "pending"
    },
    "tags": []
   },
   "source": [
    "**B5**"
   ]
  },
  {
   "cell_type": "code",
   "execution_count": null,
   "id": "1b0d1904",
   "metadata": {
    "papermill": {
     "duration": null,
     "end_time": null,
     "exception": null,
     "start_time": null,
     "status": "pending"
    },
    "tags": []
   },
   "outputs": [],
   "source": [
    "xtrainb5=np.load('/kaggle/input/dlintern/BTC_X_train_B5 (1).npy')\n",
    "xtestb5=np.load('/kaggle/input/dlintern/BTC_X_test_B5 (1).npy')"
   ]
  },
  {
   "cell_type": "code",
   "execution_count": null,
   "id": "24a56c96",
   "metadata": {
    "papermill": {
     "duration": null,
     "end_time": null,
     "exception": null,
     "start_time": null,
     "status": "pending"
    },
    "tags": []
   },
   "outputs": [],
   "source": [
    "xtrainb5.shape"
   ]
  },
  {
   "cell_type": "code",
   "execution_count": null,
   "id": "359d4812",
   "metadata": {
    "papermill": {
     "duration": null,
     "end_time": null,
     "exception": null,
     "start_time": null,
     "status": "pending"
    },
    "tags": []
   },
   "outputs": [],
   "source": [
    "len(y_train)"
   ]
  },
  {
   "cell_type": "code",
   "execution_count": null,
   "id": "079fa4f9",
   "metadata": {
    "papermill": {
     "duration": null,
     "end_time": null,
     "exception": null,
     "start_time": null,
     "status": "pending"
    },
    "tags": []
   },
   "outputs": [],
   "source": [
    "xtestb5.shape"
   ]
  },
  {
   "cell_type": "code",
   "execution_count": null,
   "id": "8ac09cf7",
   "metadata": {
    "papermill": {
     "duration": null,
     "end_time": null,
     "exception": null,
     "start_time": null,
     "status": "pending"
    },
    "tags": []
   },
   "outputs": [],
   "source": [
    "from sklearn.ensemble import RandomForestClassifier\n",
    "from sklearn import metrics \n",
    "\n",
    "clf = RandomForestClassifier()\n",
    "clf.fit(xtrainb5, y_train)\n",
    "y_pred = clf.predict(xtestb5)\n",
    "print(metrics.accuracy_score(y_test, y_pred))"
   ]
  },
  {
   "cell_type": "code",
   "execution_count": null,
   "id": "19faa04f",
   "metadata": {
    "papermill": {
     "duration": null,
     "end_time": null,
     "exception": null,
     "start_time": null,
     "status": "pending"
    },
    "tags": []
   },
   "outputs": [],
   "source": [
    "from sklearn.svm import SVC\n",
    "from sklearn.metrics import accuracy_score\n",
    "svc=SVC() \n",
    "svc.fit(xtrainb5,y_train)\n",
    "y_pred=svc.predict(xtestb5)\n",
    "print('Model accuracy score with default hyperparameters: {0:0.4f}'. format(accuracy_score(y_test, y_pred)))"
   ]
  },
  {
   "cell_type": "markdown",
   "id": "5befdf7e",
   "metadata": {
    "papermill": {
     "duration": null,
     "end_time": null,
     "exception": null,
     "start_time": null,
     "status": "pending"
    },
    "tags": []
   },
   "source": [
    "# Feature Extraction from FC1 & FC2"
   ]
  },
  {
   "cell_type": "code",
   "execution_count": null,
   "id": "788ba34a",
   "metadata": {
    "papermill": {
     "duration": null,
     "end_time": null,
     "exception": null,
     "start_time": null,
     "status": "pending"
    },
    "tags": []
   },
   "outputs": [],
   "source": [
    "vgg_model = VGG16(weights='imagenet', input_shape=(224,224,3))\n",
    "vgg_model.summary()"
   ]
  },
  {
   "cell_type": "markdown",
   "id": "77b9b36b",
   "metadata": {
    "papermill": {
     "duration": null,
     "end_time": null,
     "exception": null,
     "start_time": null,
     "status": "pending"
    },
    "tags": []
   },
   "source": [
    "**MAX**"
   ]
  },
  {
   "cell_type": "code",
   "execution_count": null,
   "id": "f0cfc445",
   "metadata": {
    "papermill": {
     "duration": null,
     "end_time": null,
     "exception": null,
     "start_time": null,
     "status": "pending"
    },
    "tags": []
   },
   "outputs": [],
   "source": [
    "Xmax=[]\n",
    "j=0\n",
    "for i in X_train:\n",
    "    img = image.img_to_array(i)\n",
    "    img = preprocess_input(img)\n",
    "    img = np.expand_dims(img, axis=0)\n",
    "    fc1 = Model(vgg_model.inputs, vgg_model.get_layer('fc1').output)\n",
    "    fc1 = fc1.predict(img)\n",
    "    fc2 = Model(vgg_model.inputs, vgg_model.get_layer('fc2').output)\n",
    "    fc2 = fc2.predict(img)\n",
    "    fc = np.maximum(fc1, fc2) \n",
    "    Xmax.append(fc)\n",
    "    print(\"->\"+str(j),end=\" \")\n",
    "    j+=1"
   ]
  },
  {
   "cell_type": "code",
   "execution_count": null,
   "id": "99ffde73",
   "metadata": {
    "papermill": {
     "duration": null,
     "end_time": null,
     "exception": null,
     "start_time": null,
     "status": "pending"
    },
    "tags": []
   },
   "outputs": [],
   "source": [
    "Ymax=[]\n",
    "j=0\n",
    "for i in X_test:\n",
    "    img = image.img_to_array(i)\n",
    "    img = preprocess_input(img)\n",
    "    img = np.expand_dims(img, axis=0)\n",
    "    fc1 = Model(vgg_model.inputs, vgg_model.get_layer('fc1').output)\n",
    "    fc1 = fc1.predict(img)\n",
    "    fc2 = Model(vgg_model.inputs, vgg_model.get_layer('fc2').output)\n",
    "    fc2 = fc2.predict(img)\n",
    "    fc = np.maximum(fc1, fc2) \n",
    "    Ymax.append(fc)\n",
    "    print(\"->\"+str(j),end=\" \")\n",
    "    j+=1"
   ]
  },
  {
   "cell_type": "code",
   "execution_count": null,
   "id": "0fe28e5a",
   "metadata": {
    "papermill": {
     "duration": null,
     "end_time": null,
     "exception": null,
     "start_time": null,
     "status": "pending"
    },
    "tags": []
   },
   "outputs": [],
   "source": [
    "Xmax = np.asarray(Xmax)\n",
    "Xmax.shape"
   ]
  },
  {
   "cell_type": "code",
   "execution_count": null,
   "id": "38c9093b",
   "metadata": {
    "papermill": {
     "duration": null,
     "end_time": null,
     "exception": null,
     "start_time": null,
     "status": "pending"
    },
    "tags": []
   },
   "outputs": [],
   "source": [
    "Xmax=np.reshape(np.ravel(Xmax),(2611,4096))"
   ]
  },
  {
   "cell_type": "code",
   "execution_count": null,
   "id": "7aacf674",
   "metadata": {
    "papermill": {
     "duration": null,
     "end_time": null,
     "exception": null,
     "start_time": null,
     "status": "pending"
    },
    "tags": []
   },
   "outputs": [],
   "source": [
    "Xmax.shape"
   ]
  },
  {
   "cell_type": "code",
   "execution_count": null,
   "id": "18d2151e",
   "metadata": {
    "papermill": {
     "duration": null,
     "end_time": null,
     "exception": null,
     "start_time": null,
     "status": "pending"
    },
    "tags": []
   },
   "outputs": [],
   "source": [
    "Ymax= np.asarray(Ymax)\n",
    "Ymax.shape"
   ]
  },
  {
   "cell_type": "code",
   "execution_count": null,
   "id": "cc3e680c",
   "metadata": {
    "papermill": {
     "duration": null,
     "end_time": null,
     "exception": null,
     "start_time": null,
     "status": "pending"
    },
    "tags": []
   },
   "outputs": [],
   "source": [
    "Ymax=np.reshape(np.ravel(Ymax),(653,4096))"
   ]
  },
  {
   "cell_type": "code",
   "execution_count": null,
   "id": "58c352bf",
   "metadata": {
    "papermill": {
     "duration": null,
     "end_time": null,
     "exception": null,
     "start_time": null,
     "status": "pending"
    },
    "tags": []
   },
   "outputs": [],
   "source": [
    "Ymax.shape"
   ]
  },
  {
   "cell_type": "code",
   "execution_count": null,
   "id": "3d19c4cf",
   "metadata": {
    "papermill": {
     "duration": null,
     "end_time": null,
     "exception": null,
     "start_time": null,
     "status": "pending"
    },
    "tags": []
   },
   "outputs": [],
   "source": [
    "xtrainfcmax=np.load('/kaggle/input/dlintern/BTC_X_train_FC_MAX.npy')\n",
    "xtestfcmax=np.load('/kaggle/input/dlintern/BTC_X_test_FC_MAX.npy')"
   ]
  },
  {
   "cell_type": "code",
   "execution_count": null,
   "id": "7c492b5b",
   "metadata": {
    "papermill": {
     "duration": null,
     "end_time": null,
     "exception": null,
     "start_time": null,
     "status": "pending"
    },
    "tags": []
   },
   "outputs": [],
   "source": [
    "from sklearn.ensemble import RandomForestClassifier\n",
    "from sklearn import metrics \n",
    "\n",
    "clf = RandomForestClassifier()\n",
    "clf.fit(xtrainfcmax, y_train)\n",
    "y_pred = clf.predict(xtestfcmax)\n",
    "print(metrics.accuracy_score(y_test, y_pred))"
   ]
  },
  {
   "cell_type": "code",
   "execution_count": null,
   "id": "ae10941e",
   "metadata": {
    "papermill": {
     "duration": null,
     "end_time": null,
     "exception": null,
     "start_time": null,
     "status": "pending"
    },
    "tags": []
   },
   "outputs": [],
   "source": [
    "from sklearn.svm import SVC\n",
    "from sklearn.metrics import accuracy_score\n",
    "svc=SVC(kernel='poly', degree=8) \n",
    "svc.fit(xtrainfcmax,y_train)\n",
    "y_pred=svc.predict(xtestfcmax)\n",
    "print('Model accuracy score with default hyperparameters: {0:0.4f}'. format(accuracy_score(y_test, y_pred)))"
   ]
  },
  {
   "cell_type": "code",
   "execution_count": null,
   "id": "142b1301",
   "metadata": {
    "papermill": {
     "duration": null,
     "end_time": null,
     "exception": null,
     "start_time": null,
     "status": "pending"
    },
    "tags": []
   },
   "outputs": [],
   "source": [
    "np.save('BTC_X_train_FC_MAX',xtrainfcmax)\n",
    "np.save('BTC_X_test_FC_MAX',xtestfcmax)\n"
   ]
  },
  {
   "cell_type": "markdown",
   "id": "91edc8f4",
   "metadata": {
    "papermill": {
     "duration": null,
     "end_time": null,
     "exception": null,
     "start_time": null,
     "status": "pending"
    },
    "tags": []
   },
   "source": [
    "**Combine**"
   ]
  },
  {
   "cell_type": "code",
   "execution_count": null,
   "id": "d9c81882",
   "metadata": {
    "papermill": {
     "duration": null,
     "end_time": null,
     "exception": null,
     "start_time": null,
     "status": "pending"
    },
    "tags": []
   },
   "outputs": [],
   "source": [
    "Xc=[]\n",
    "j=0\n",
    "for i in X_train:\n",
    "    img = image.img_to_array(i)\n",
    "    img = preprocess_input(img)\n",
    "    img = np.expand_dims(img, axis=0)\n",
    "    fc1 = Model(vgg_model.inputs, vgg_model.get_layer('fc1').output)\n",
    "    fc1 = fc1.predict(img)\n",
    "    fc2 = Model(vgg_model.inputs, vgg_model.get_layer('fc2').output)\n",
    "    fc2 = fc2.predict(img)\n",
    "    fc = np.hstack((fc1,fc2))\n",
    "    Xc.append(fc)\n",
    "    print(\"->\"+str(j),end=\" \")\n",
    "    j+=1"
   ]
  },
  {
   "cell_type": "code",
   "execution_count": null,
   "id": "8c72618b",
   "metadata": {
    "papermill": {
     "duration": null,
     "end_time": null,
     "exception": null,
     "start_time": null,
     "status": "pending"
    },
    "tags": []
   },
   "outputs": [],
   "source": [
    "Xc = np.asarray(Xc)\n",
    "Xc.shape"
   ]
  },
  {
   "cell_type": "code",
   "execution_count": null,
   "id": "8184b34d",
   "metadata": {
    "papermill": {
     "duration": null,
     "end_time": null,
     "exception": null,
     "start_time": null,
     "status": "pending"
    },
    "tags": []
   },
   "outputs": [],
   "source": [
    "Xc=np.reshape(np.ravel(Xc),(2611,8192))\n",
    "Xc.shape"
   ]
  },
  {
   "cell_type": "code",
   "execution_count": null,
   "id": "424074d7",
   "metadata": {
    "papermill": {
     "duration": null,
     "end_time": null,
     "exception": null,
     "start_time": null,
     "status": "pending"
    },
    "tags": []
   },
   "outputs": [],
   "source": [
    "Yc=[]\n",
    "j=0\n",
    "for i in X_test:\n",
    "    img = image.img_to_array(i)\n",
    "    img = preprocess_input(img)\n",
    "    img = np.expand_dims(img, axis=0)\n",
    "    fc1 = Model(vgg_model.inputs, vgg_model.get_layer('fc1').output)\n",
    "    fc1 = fc1.predict(img)\n",
    "    fc2 = Model(vgg_model.inputs, vgg_model.get_layer('fc2').output)\n",
    "    fc2 = fc2.predict(img)\n",
    "    fc = np.hstack((fc1,fc2))\n",
    "    Yc.append(fc)\n",
    "    print(\"->\"+str(j),end=\" \")\n",
    "    j+=1"
   ]
  },
  {
   "cell_type": "code",
   "execution_count": null,
   "id": "d73c8958",
   "metadata": {
    "papermill": {
     "duration": null,
     "end_time": null,
     "exception": null,
     "start_time": null,
     "status": "pending"
    },
    "tags": []
   },
   "outputs": [],
   "source": [
    "Yc = np.asarray(Yc)\n",
    "Yc.shape"
   ]
  },
  {
   "cell_type": "code",
   "execution_count": null,
   "id": "49c4e32e",
   "metadata": {
    "papermill": {
     "duration": null,
     "end_time": null,
     "exception": null,
     "start_time": null,
     "status": "pending"
    },
    "tags": []
   },
   "outputs": [],
   "source": [
    "Yc=np.reshape(np.ravel(Yc),(653,8192))\n",
    "Yc.shape"
   ]
  },
  {
   "cell_type": "code",
   "execution_count": null,
   "id": "baa54315",
   "metadata": {
    "papermill": {
     "duration": null,
     "end_time": null,
     "exception": null,
     "start_time": null,
     "status": "pending"
    },
    "tags": []
   },
   "outputs": [],
   "source": [
    "np.save('BTC_X_train_FC',Xc)\n",
    "np.save('BTC_X_test_FC',Yc)"
   ]
  },
  {
   "cell_type": "code",
   "execution_count": null,
   "id": "4f77bbb0",
   "metadata": {
    "papermill": {
     "duration": null,
     "end_time": null,
     "exception": null,
     "start_time": null,
     "status": "pending"
    },
    "tags": []
   },
   "outputs": [],
   "source": [
    "xtrainfc=np.load('/kaggle/input/dlintern/BTC_X_train_FC.npy')\n",
    "xtestfc=np.load('/kaggle/input/dlintern/BTC_X_test_FC.npy')"
   ]
  },
  {
   "cell_type": "code",
   "execution_count": null,
   "id": "ed25a059",
   "metadata": {
    "papermill": {
     "duration": null,
     "end_time": null,
     "exception": null,
     "start_time": null,
     "status": "pending"
    },
    "tags": []
   },
   "outputs": [],
   "source": [
    "from sklearn.svm import SVC\n",
    "from sklearn.metrics import accuracy_score\n",
    "svc=SVC(kernel='poly', degree=8) \n",
    "svc.fit(xtrainfc,y_train)\n",
    "y_pred=svc.predict(xtestfc)\n",
    "print('Model accuracy score with default hyperparameters: {0:0.4f}'. format(accuracy_score(y_test, y_pred)))"
   ]
  },
  {
   "cell_type": "code",
   "execution_count": null,
   "id": "52c1b8ac",
   "metadata": {
    "papermill": {
     "duration": null,
     "end_time": null,
     "exception": null,
     "start_time": null,
     "status": "pending"
    },
    "tags": []
   },
   "outputs": [],
   "source": [
    "from sklearn.ensemble import RandomForestClassifier\n",
    "from sklearn import metrics \n",
    "\n",
    "clf = RandomForestClassifier()\n",
    "clf.fit(xtrainfc, y_train)\n",
    "y_pred = clf.predict(xtestfc)\n",
    "print(metrics.accuracy_score(y_test, y_pred))"
   ]
  },
  {
   "cell_type": "markdown",
   "id": "f49bfe1b",
   "metadata": {
    "papermill": {
     "duration": null,
     "end_time": null,
     "exception": null,
     "start_time": null,
     "status": "pending"
    },
    "tags": []
   },
   "source": [
    "**Average**"
   ]
  },
  {
   "cell_type": "code",
   "execution_count": null,
   "id": "bd1c6d10",
   "metadata": {
    "papermill": {
     "duration": null,
     "end_time": null,
     "exception": null,
     "start_time": null,
     "status": "pending"
    },
    "tags": []
   },
   "outputs": [],
   "source": [
    "Xavg=[]\n",
    "j=0\n",
    "for i in X_train:\n",
    "    img = image.img_to_array(i)\n",
    "    img = preprocess_input(img)\n",
    "    img = np.expand_dims(img, axis=0)\n",
    "    fc1 = Model(vgg_model.inputs, vgg_model.get_layer('fc1').output)\n",
    "    fc1 = fc1.predict(img)\n",
    "    fc2 = Model(vgg_model.inputs, vgg_model.get_layer('fc2').output)\n",
    "    fc2 = fc2.predict(img)\n",
    "    fc = (fc1 + fc2) / 2\n",
    "    Xavg.append(fc)\n",
    "    print(\"->\"+str(j),end=\" \")\n",
    "    j+=1"
   ]
  },
  {
   "cell_type": "code",
   "execution_count": null,
   "id": "100498f3",
   "metadata": {
    "papermill": {
     "duration": null,
     "end_time": null,
     "exception": null,
     "start_time": null,
     "status": "pending"
    },
    "tags": []
   },
   "outputs": [],
   "source": [
    "Xavg = np.asarray(Xavg)\n",
    "Xavg.shape"
   ]
  },
  {
   "cell_type": "code",
   "execution_count": null,
   "id": "d95e4253",
   "metadata": {
    "papermill": {
     "duration": null,
     "end_time": null,
     "exception": null,
     "start_time": null,
     "status": "pending"
    },
    "tags": []
   },
   "outputs": [],
   "source": [
    "Xavg=np.reshape(np.ravel(Xavg),(2611,4096))\n",
    "Xavg.shape"
   ]
  },
  {
   "cell_type": "code",
   "execution_count": null,
   "id": "9141cae1",
   "metadata": {
    "papermill": {
     "duration": null,
     "end_time": null,
     "exception": null,
     "start_time": null,
     "status": "pending"
    },
    "tags": []
   },
   "outputs": [],
   "source": [
    "Yavg=[]\n",
    "j=0\n",
    "for i in X_test:\n",
    "    img = image.img_to_array(i)\n",
    "    img = preprocess_input(img)\n",
    "    img = np.expand_dims(img, axis=0)\n",
    "    fc1 = Model(vgg_model.inputs, vgg_model.get_layer('fc1').output)\n",
    "    fc1 = fc1.predict(img)\n",
    "    fc2 = Model(vgg_model.inputs, vgg_model.get_layer('fc2').output)\n",
    "    fc2 = fc2.predict(img)\n",
    "    fc = (fc1 + fc2) / 2\n",
    "    Yavg.append(fc)\n",
    "    print(\"->\"+str(j),end=\" \")\n",
    "    j+=1"
   ]
  },
  {
   "cell_type": "code",
   "execution_count": null,
   "id": "06fa3517",
   "metadata": {
    "papermill": {
     "duration": null,
     "end_time": null,
     "exception": null,
     "start_time": null,
     "status": "pending"
    },
    "tags": []
   },
   "outputs": [],
   "source": [
    "Yavg = np.asarray(Yavg)\n",
    "Yavg.shape"
   ]
  },
  {
   "cell_type": "code",
   "execution_count": null,
   "id": "43dee44c",
   "metadata": {
    "papermill": {
     "duration": null,
     "end_time": null,
     "exception": null,
     "start_time": null,
     "status": "pending"
    },
    "tags": []
   },
   "outputs": [],
   "source": [
    "Yavg=np.reshape(np.ravel(Yavg),(653,4096))\n",
    "Yavg.shape"
   ]
  },
  {
   "cell_type": "code",
   "execution_count": null,
   "id": "82887f70",
   "metadata": {
    "papermill": {
     "duration": null,
     "end_time": null,
     "exception": null,
     "start_time": null,
     "status": "pending"
    },
    "tags": []
   },
   "outputs": [],
   "source": [
    "Xavg=np.load('/kaggle/input/dlintern/BTC_X_train_FC_AVG.npy')\n",
    "Yavg=np.load('/kaggle/input/dlintern/BTC_X_test_FC_AVG.npy')"
   ]
  },
  {
   "cell_type": "code",
   "execution_count": null,
   "id": "a135bfd9",
   "metadata": {
    "papermill": {
     "duration": null,
     "end_time": null,
     "exception": null,
     "start_time": null,
     "status": "pending"
    },
    "tags": []
   },
   "outputs": [],
   "source": [
    "Xavg.shape"
   ]
  },
  {
   "cell_type": "code",
   "execution_count": null,
   "id": "a2cccc49",
   "metadata": {
    "papermill": {
     "duration": null,
     "end_time": null,
     "exception": null,
     "start_time": null,
     "status": "pending"
    },
    "tags": []
   },
   "outputs": [],
   "source": [
    "from sklearn.svm import SVC\n",
    "from sklearn.metrics import accuracy_score\n",
    "svc=SVC(kernel='poly', degree=8) \n",
    "svc.fit(Xavg,y_train)\n",
    "y_pred=svc.predict(Yavg)\n",
    "print('Model accuracy score with default hyperparameters: {0:0.4f}'. format(accuracy_score(y_test, y_pred)))"
   ]
  },
  {
   "cell_type": "code",
   "execution_count": null,
   "id": "76c3310f",
   "metadata": {
    "papermill": {
     "duration": null,
     "end_time": null,
     "exception": null,
     "start_time": null,
     "status": "pending"
    },
    "tags": []
   },
   "outputs": [],
   "source": [
    "from sklearn.ensemble import RandomForestClassifier\n",
    "from sklearn import metrics \n",
    "\n",
    "clf = RandomForestClassifier()\n",
    "clf.fit(Xavg, y_train)\n",
    "y_pred = clf.predict(Yavg)\n",
    "print(metrics.accuracy_score(y_test, y_pred))"
   ]
  },
  {
   "cell_type": "code",
   "execution_count": null,
   "id": "986b6439",
   "metadata": {
    "papermill": {
     "duration": null,
     "end_time": null,
     "exception": null,
     "start_time": null,
     "status": "pending"
    },
    "tags": []
   },
   "outputs": [],
   "source": [
    "np.save('BTC_X_train_FC_AVG',Xavg)\n",
    "np.save('BTC_X_test_FC_AVG',Yavg)"
   ]
  },
  {
   "cell_type": "markdown",
   "id": "f6dddbbb",
   "metadata": {
    "papermill": {
     "duration": null,
     "end_time": null,
     "exception": null,
     "start_time": null,
     "status": "pending"
    },
    "tags": []
   },
   "source": [
    "# CIFAR-10"
   ]
  },
  {
   "cell_type": "code",
   "execution_count": null,
   "id": "95bf98f4",
   "metadata": {
    "papermill": {
     "duration": null,
     "end_time": null,
     "exception": null,
     "start_time": null,
     "status": "pending"
    },
    "tags": []
   },
   "outputs": [],
   "source": [
    "import tensorflow as tf\n",
    "(x_train, y_train), (x_test, y_test) = tf.keras.datasets.cifar10.load_data()"
   ]
  },
  {
   "cell_type": "code",
   "execution_count": null,
   "id": "ba606436",
   "metadata": {
    "papermill": {
     "duration": null,
     "end_time": null,
     "exception": null,
     "start_time": null,
     "status": "pending"
    },
    "tags": []
   },
   "outputs": [],
   "source": [
    "x_train.shape"
   ]
  },
  {
   "cell_type": "code",
   "execution_count": null,
   "id": "9c6dd379",
   "metadata": {
    "papermill": {
     "duration": null,
     "end_time": null,
     "exception": null,
     "start_time": null,
     "status": "pending"
    },
    "tags": []
   },
   "outputs": [],
   "source": [
    "x_train = x_train.reshape(len(x_train), 32,32,3)\n",
    "x_test = x_test.reshape(len(x_test), 32,32,3)\n",
    "\n",
    "x_train = x_train.astype('float32')\n",
    "x_test = x_test.astype('float32')\n",
    "x_train /= 255\n",
    "x_test /= 255\n",
    "print('x_train shape:', x_train.shape)\n",
    "print('Number of images in x_train', x_train.shape[0])\n",
    "print('Number of images in x_test', x_test.shape[0])"
   ]
  },
  {
   "cell_type": "code",
   "execution_count": null,
   "id": "8992b59e",
   "metadata": {
    "papermill": {
     "duration": null,
     "end_time": null,
     "exception": null,
     "start_time": null,
     "status": "pending"
    },
    "tags": []
   },
   "outputs": [],
   "source": [
    "from keras import Sequential\n",
    "from keras.layers import Dense, Conv2D, MaxPooling2D, BatchNormalization, Flatten,Dropout\n",
    "from tensorflow.keras.callbacks import EarlyStopping\n",
    "early_stopping = EarlyStopping(monitor='val_loss', mode='min', verbose=1, patience=50)"
   ]
  },
  {
   "cell_type": "code",
   "execution_count": null,
   "id": "10a260e2",
   "metadata": {
    "papermill": {
     "duration": null,
     "end_time": null,
     "exception": null,
     "start_time": null,
     "status": "pending"
    },
    "tags": []
   },
   "outputs": [],
   "source": [
    "model1 = Sequential()\n",
    "model1.add(Conv2D(32, (1,1), input_shape=(x_train[0].shape),activation='relu',padding='same')) \n",
    "model1.add(BatchNormalization())\n",
    "model1.add(Conv2D(32, (1,1), activation='relu',padding='same'))\n",
    "model1.add(BatchNormalization())\n",
    "model1.add(MaxPooling2D())\n",
    "model1.add(Dropout(0.25))\n",
    "\n",
    "model1.add(Conv2D(64, (3,3),activation='relu',padding='same')) \n",
    "model1.add(BatchNormalization())\n",
    "model1.add(Conv2D(64, (3,3), activation='relu',padding='same'))\n",
    "model1.add(BatchNormalization())\n",
    "model1.add(MaxPooling2D())\n",
    "model1.add(Dropout(0.25))\n",
    "\n",
    "model1.add(Conv2D(128, (3,3),activation='relu',padding='same')) \n",
    "model1.add(BatchNormalization())\n",
    "model1.add(Conv2D(128, (3,3), activation='relu',padding='same'))\n",
    "model1.add(BatchNormalization())\n",
    "model1.add(MaxPooling2D())\n",
    "model1.add(Dropout(0.25))\n",
    "\n",
    "model1.add(Flatten())\n",
    "model1.add(Dense(64,activation=\"relu\"))\n",
    "model1.add(Dropout(0.25))\n",
    "model1.add(Dense(128,activation=\"relu\"))\n",
    "model1.add(Dense(units = 10, activation = 'softmax'))\n",
    "\n",
    "model1.compile(optimizer ='adam',loss='sparse_categorical_crossentropy', metrics =['accuracy'],)\n",
    "\n",
    "model1.fit(x_train,y_train, batch_size=32,validation_split=0.2, epochs=50,callbacks=[early_stopping])\n",
    "\n",
    "\n",
    "model1.evaluate(x_test, y_test)"
   ]
  },
  {
   "cell_type": "markdown",
   "id": "942645b9",
   "metadata": {
    "papermill": {
     "duration": null,
     "end_time": null,
     "exception": null,
     "start_time": null,
     "status": "pending"
    },
    "tags": []
   },
   "source": [
    "# BTC"
   ]
  },
  {
   "cell_type": "code",
   "execution_count": null,
   "id": "a50b2a2e",
   "metadata": {
    "papermill": {
     "duration": null,
     "end_time": null,
     "exception": null,
     "start_time": null,
     "status": "pending"
    },
    "tags": []
   },
   "outputs": [],
   "source": [
    "import numpy as np\n",
    "import cv2\n",
    "import tensorflow as tf\n",
    "from tqdm import tqdm\n",
    "import os\n",
    "from sklearn.utils import shuffle\n",
    "from sklearn.model_selection import train_test_split\n",
    "from tensorflow.keras.applications import EfficientNetB0\n",
    "from tensorflow.keras.callbacks import ReduceLROnPlateau, TensorBoard, ModelCheckpoint\n",
    "import ipywidgets as widgets\n",
    "import io\n",
    "from PIL import Image\n",
    "from IPython.display import display,clear_output"
   ]
  },
  {
   "cell_type": "code",
   "execution_count": null,
   "id": "d7b1c0e8",
   "metadata": {
    "papermill": {
     "duration": null,
     "end_time": null,
     "exception": null,
     "start_time": null,
     "status": "pending"
    },
    "tags": []
   },
   "outputs": [],
   "source": [
    "labels = ['glioma_tumor','no_tumor','meningioma_tumor','pituitary_tumor']"
   ]
  },
  {
   "cell_type": "code",
   "execution_count": null,
   "id": "3317ee31",
   "metadata": {
    "papermill": {
     "duration": null,
     "end_time": null,
     "exception": null,
     "start_time": null,
     "status": "pending"
    },
    "tags": []
   },
   "outputs": [],
   "source": [
    "X = []\n",
    "y= []\n",
    "image_size = 224\n",
    "for i in labels:\n",
    "    folderPath = os.path.join('/kaggle/input/brain-tumor-classification-mri','Training',i)\n",
    "    for j in tqdm(os.listdir(folderPath)):\n",
    "        img = cv2.imread(os.path.join(folderPath,j))\n",
    "        img = cv2.resize(img,(image_size, image_size))\n",
    "        X.append(img)\n",
    "        y.append(i)\n",
    "for i in labels:\n",
    "    folderPath = os.path.join('/kaggle/input/brain-tumor-classification-mri','Testing',i)\n",
    "    for j in tqdm(os.listdir(folderPath)):\n",
    "        img = cv2.imread(os.path.join(folderPath,j))\n",
    "        img = cv2.resize(img,(image_size,image_size))\n",
    "        X.append(img)\n",
    "        y.append(i)\n",
    "X = np.array(X)\n",
    "y = np.array(y)"
   ]
  },
  {
   "cell_type": "code",
   "execution_count": null,
   "id": "8637ccab",
   "metadata": {
    "papermill": {
     "duration": null,
     "end_time": null,
     "exception": null,
     "start_time": null,
     "status": "pending"
    },
    "tags": []
   },
   "outputs": [],
   "source": [
    "X, y = shuffle(X,y, random_state=101)"
   ]
  },
  {
   "cell_type": "code",
   "execution_count": null,
   "id": "560b6c4a",
   "metadata": {
    "papermill": {
     "duration": null,
     "end_time": null,
     "exception": null,
     "start_time": null,
     "status": "pending"
    },
    "tags": []
   },
   "outputs": [],
   "source": [
    "X.shape"
   ]
  },
  {
   "cell_type": "code",
   "execution_count": null,
   "id": "154c3ee6",
   "metadata": {
    "papermill": {
     "duration": null,
     "end_time": null,
     "exception": null,
     "start_time": null,
     "status": "pending"
    },
    "tags": []
   },
   "outputs": [],
   "source": [
    "X_train,X_test,y_train,y_test = train_test_split(X,y, test_size=0.2,random_state=101)"
   ]
  },
  {
   "cell_type": "code",
   "execution_count": null,
   "id": "2ef3d366",
   "metadata": {
    "papermill": {
     "duration": null,
     "end_time": null,
     "exception": null,
     "start_time": null,
     "status": "pending"
    },
    "tags": []
   },
   "outputs": [],
   "source": [
    "y_train_new = []\n",
    "for i in y_train:\n",
    "    y_train_new.append(labels.index(i))\n",
    "y_train = y_train_new\n",
    "y_train = tf.keras.utils.to_categorical(y_train)\n",
    "\n",
    "\n",
    "y_test_new = []\n",
    "for i in y_test:\n",
    "    y_test_new.append(labels.index(i))\n",
    "y_test = y_test_new\n",
    "y_test = tf.keras.utils.to_categorical(y_test)"
   ]
  },
  {
   "cell_type": "code",
   "execution_count": null,
   "id": "2a221734",
   "metadata": {
    "papermill": {
     "duration": null,
     "end_time": null,
     "exception": null,
     "start_time": null,
     "status": "pending"
    },
    "tags": []
   },
   "outputs": [],
   "source": [
    "effnet = EfficientNetB0(weights='imagenet',include_top=False,input_shape=(image_size,image_size,3))\n"
   ]
  },
  {
   "cell_type": "code",
   "execution_count": null,
   "id": "d601ef62",
   "metadata": {
    "papermill": {
     "duration": null,
     "end_time": null,
     "exception": null,
     "start_time": null,
     "status": "pending"
    },
    "tags": []
   },
   "outputs": [],
   "source": [
    "model = effnet.output\n",
    "model = tf.keras.layers.GlobalAveragePooling2D()(model)\n",
    "model = tf.keras.layers.Dropout(rate=0.5)(model)\n",
    "model = tf.keras.layers.Dense(4,activation='softmax')(model)\n",
    "model = tf.keras.models.Model(inputs=effnet.input, outputs = model)"
   ]
  },
  {
   "cell_type": "code",
   "execution_count": null,
   "id": "a4bb7966",
   "metadata": {
    "papermill": {
     "duration": null,
     "end_time": null,
     "exception": null,
     "start_time": null,
     "status": "pending"
    },
    "tags": []
   },
   "outputs": [],
   "source": [
    "model.compile(loss='categorical_crossentropy',optimizer = 'Adam', metrics= ['accuracy'])"
   ]
  },
  {
   "cell_type": "code",
   "execution_count": null,
   "id": "93e4f2df",
   "metadata": {
    "papermill": {
     "duration": null,
     "end_time": null,
     "exception": null,
     "start_time": null,
     "status": "pending"
    },
    "tags": []
   },
   "outputs": [],
   "source": [
    "tensorboard = TensorBoard(log_dir = 'logs')\n",
    "checkpoint = ModelCheckpoint(\"effnet.h5\",monitor=\"val_accuracy\",save_best_only=True,mode=\"auto\",verbose=1)\n",
    "reduce_lr = ReduceLROnPlateau(monitor = 'val_accuracy', factor = 0.3, patience = 2, min_delta = 0.001,\n",
    "                              mode='auto',verbose=1)"
   ]
  },
  {
   "cell_type": "code",
   "execution_count": null,
   "id": "b66ee9dc",
   "metadata": {
    "papermill": {
     "duration": null,
     "end_time": null,
     "exception": null,
     "start_time": null,
     "status": "pending"
    },
    "tags": []
   },
   "outputs": [],
   "source": [
    "history = model.fit(X_train,y_train,validation_split=0.2, epochs =25, verbose=1, batch_size=32,\n",
    "                   callbacks=[tensorboard,checkpoint,reduce_lr])"
   ]
  },
  {
   "cell_type": "code",
   "execution_count": null,
   "id": "647048f2",
   "metadata": {
    "papermill": {
     "duration": null,
     "end_time": null,
     "exception": null,
     "start_time": null,
     "status": "pending"
    },
    "tags": []
   },
   "outputs": [],
   "source": [
    "pred = model.predict(X_test)\n",
    "pred = np.argmax(pred,axis=1)\n",
    "y_test_new = np.argmax(y_test,axis=1)"
   ]
  },
  {
   "cell_type": "code",
   "execution_count": null,
   "id": "0daa734b",
   "metadata": {
    "papermill": {
     "duration": null,
     "end_time": null,
     "exception": null,
     "start_time": null,
     "status": "pending"
    },
    "tags": []
   },
   "outputs": [],
   "source": [
    "from sklearn.metrics import accuracy_score,confusion_matrix,classification_report"
   ]
  },
  {
   "cell_type": "code",
   "execution_count": null,
   "id": "69f66aa0",
   "metadata": {
    "papermill": {
     "duration": null,
     "end_time": null,
     "exception": null,
     "start_time": null,
     "status": "pending"
    },
    "tags": []
   },
   "outputs": [],
   "source": [
    "print(classification_report(pred,y_test_new))"
   ]
  },
  {
   "cell_type": "code",
   "execution_count": null,
   "id": "7c3a1c20",
   "metadata": {
    "papermill": {
     "duration": null,
     "end_time": null,
     "exception": null,
     "start_time": null,
     "status": "pending"
    },
    "tags": []
   },
   "outputs": [],
   "source": [
    "import matplotlib.pyplot as plt\n",
    "import seaborn as sns\n",
    "cm = confusion_matrix(y_test_new,pred)\n",
    "ax = sns.heatmap(cm, annot=True, fmt='g');\n",
    "ax.set_xlabel('Predicted ')\n",
    "ax.set_ylabel('Actual ');\n",
    "ax.xaxis.set_ticklabels(['glioma','none','meningioma','pituitary'])\n",
    "ax.yaxis.set_ticklabels(['glioma','none','meningioma','pituitary'])\n",
    "plt.show()"
   ]
  },
  {
   "cell_type": "code",
   "execution_count": null,
   "id": "f80bd106",
   "metadata": {
    "papermill": {
     "duration": null,
     "end_time": null,
     "exception": null,
     "start_time": null,
     "status": "pending"
    },
    "tags": []
   },
   "outputs": [],
   "source": [
    "epochs = range(1,26)\n",
    "loss_train = history.history['loss']\n",
    "loss_val = history.history['val_loss']\n",
    "plt.plot(epochs, loss_train, 'g', label='Training loss')\n",
    "plt.plot(epochs, loss_val, 'b', label='validation loss')\n",
    "plt.title('Training and Validation loss')\n",
    "plt.xlabel('Epochs')\n",
    "plt.ylabel('Loss')\n",
    "plt.legend()\n",
    "plt.show()"
   ]
  },
  {
   "cell_type": "markdown",
   "id": "e4b551e7",
   "metadata": {
    "papermill": {
     "duration": null,
     "end_time": null,
     "exception": null,
     "start_time": null,
     "status": "pending"
    },
    "tags": []
   },
   "source": [
    "# Regression"
   ]
  },
  {
   "cell_type": "code",
   "execution_count": null,
   "id": "2f237a12",
   "metadata": {
    "papermill": {
     "duration": null,
     "end_time": null,
     "exception": null,
     "start_time": null,
     "status": "pending"
    },
    "tags": []
   },
   "outputs": [],
   "source": []
  },
  {
   "cell_type": "code",
   "execution_count": null,
   "id": "72806838",
   "metadata": {
    "papermill": {
     "duration": null,
     "end_time": null,
     "exception": null,
     "start_time": null,
     "status": "pending"
    },
    "tags": []
   },
   "outputs": [],
   "source": []
  },
  {
   "cell_type": "code",
   "execution_count": null,
   "id": "6345008d",
   "metadata": {
    "papermill": {
     "duration": null,
     "end_time": null,
     "exception": null,
     "start_time": null,
     "status": "pending"
    },
    "tags": []
   },
   "outputs": [],
   "source": []
  },
  {
   "cell_type": "code",
   "execution_count": null,
   "id": "d4b7f997",
   "metadata": {
    "papermill": {
     "duration": null,
     "end_time": null,
     "exception": null,
     "start_time": null,
     "status": "pending"
    },
    "tags": []
   },
   "outputs": [],
   "source": []
  },
  {
   "cell_type": "code",
   "execution_count": null,
   "id": "27812233",
   "metadata": {
    "papermill": {
     "duration": null,
     "end_time": null,
     "exception": null,
     "start_time": null,
     "status": "pending"
    },
    "tags": []
   },
   "outputs": [],
   "source": []
  },
  {
   "cell_type": "code",
   "execution_count": null,
   "id": "250598f5",
   "metadata": {
    "papermill": {
     "duration": null,
     "end_time": null,
     "exception": null,
     "start_time": null,
     "status": "pending"
    },
    "tags": []
   },
   "outputs": [],
   "source": []
  },
  {
   "cell_type": "code",
   "execution_count": null,
   "id": "25fa3072",
   "metadata": {
    "papermill": {
     "duration": null,
     "end_time": null,
     "exception": null,
     "start_time": null,
     "status": "pending"
    },
    "tags": []
   },
   "outputs": [],
   "source": []
  }
 ],
 "metadata": {
  "kernelspec": {
   "display_name": "Python 3",
   "language": "python",
   "name": "python3"
  },
  "language_info": {
   "codemirror_mode": {
    "name": "ipython",
    "version": 3
   },
   "file_extension": ".py",
   "mimetype": "text/x-python",
   "name": "python",
   "nbconvert_exporter": "python",
   "pygments_lexer": "ipython3",
   "version": "3.6.4"
  },
  "papermill": {
   "default_parameters": {},
   "duration": null,
   "end_time": null,
   "environment_variables": {},
   "exception": null,
   "input_path": "__notebook__.ipynb",
   "output_path": "__notebook__.ipynb",
   "parameters": {},
   "start_time": "2022-12-18T09:57:18.126593",
   "version": "2.3.4"
  }
 },
 "nbformat": 4,
 "nbformat_minor": 5
}